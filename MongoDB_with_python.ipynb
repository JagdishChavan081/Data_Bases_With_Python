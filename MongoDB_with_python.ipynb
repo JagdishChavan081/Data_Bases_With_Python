{
 "cells": [
  {
   "cell_type": "code",
   "execution_count": 6,
   "metadata": {},
   "outputs": [
    {
     "name": "stdout",
     "output_type": "stream",
     "text": [
      "Requirement already satisfied: pymongo in c:\\users\\cemtrex\\anaconda3\\lib\\site-packages (4.3.3)\n",
      "Requirement already satisfied: dnspython<3.0.0,>=1.16.0 in c:\\users\\cemtrex\\anaconda3\\lib\\site-packages (from pymongo) (2.2.1)\n"
     ]
    }
   ],
   "source": [
    "#install pymongo\n",
    "!python -m pip install pymongo"
   ]
  },
  {
   "cell_type": "code",
   "execution_count": 7,
   "metadata": {},
   "outputs": [],
   "source": [
    "#checking pymongo is installed\n",
    "import pymongo"
   ]
  },
  {
   "cell_type": "code",
   "execution_count": 8,
   "metadata": {},
   "outputs": [],
   "source": [
    "#Create a first db in Mongodb using pymongo\n",
    "#create a mongo client object\n",
    "\n",
    "new_client=pymongo.MongoClient('mongodb://localhost:27017/')\n",
    "new_db=new_client['data_test']"
   ]
  },
  {
   "cell_type": "code",
   "execution_count": 9,
   "metadata": {},
   "outputs": [
    {
     "name": "stdout",
     "output_type": "stream",
     "text": [
      "<pymongo.results.InsertOneResult object at 0x000001F145BC5520>\n"
     ]
    }
   ],
   "source": [
    "new_db=new_client['data_test']\n",
    "\n",
    "new_col=new_db['students']\n",
    "\n",
    "new_dict={\"name\":\"Dony\",\"code\":\"code11\"}\n",
    "\n",
    "adding=new_col.insert_one(new_dict)\n",
    "\n",
    "print(adding)"
   ]
  },
  {
   "cell_type": "code",
   "execution_count": 12,
   "metadata": {},
   "outputs": [
    {
     "name": "stdout",
     "output_type": "stream",
     "text": [
      "[ObjectId('63bbb795d35ea53ce8a54406'), ObjectId('63bbb795d35ea53ce8a54407'), ObjectId('63bbb795d35ea53ce8a54408'), ObjectId('63bbb795d35ea53ce8a54409'), ObjectId('63bbb795d35ea53ce8a5440a'), ObjectId('63bbb795d35ea53ce8a5440b')]\n"
     ]
    }
   ],
   "source": [
    "#inserting many values at a time\n",
    "\n",
    "#import py mongo\n",
    "import pymongo\n",
    "\n",
    "new_client=pymongo.MongoClient('mongodb://localhost:27017/')\n",
    "\n",
    "new_db=new_client['new_data']\n",
    "\n",
    "new_col=new_db['students']\n",
    "\n",
    "list_of_students=[\n",
    "    {\"name\":\"chaitanya\", \"code\":\"code01\"},\n",
    "    {\"name\":\"darshani\", \"code\":\"code02\"},\n",
    "    {\"name\":\"yuvraj\", \"code\":\"code03\"},\n",
    "    {\"name\":\"vaishnavi\", \"code\":\"code04\"},\n",
    "    {\"name\":\"dhananjay\", \"code\":\"code05\"},\n",
    "    {\"name\":\"gaurav\", \"code\":\"code06\"}\n",
    "\n",
    "]\n",
    "\n",
    "adding_many=new_col.insert_many(list_of_students)\n",
    "\n",
    "print(adding_many.inserted_ids)"
   ]
  },
  {
   "cell_type": "code",
   "execution_count": 13,
   "metadata": {},
   "outputs": [
    {
     "name": "stdout",
     "output_type": "stream",
     "text": [
      "[1, 2, 3, 4, 5, 6]\n"
     ]
    }
   ],
   "source": [
    "#inserting Id no \n",
    "import pymongo\n",
    "\n",
    "new_client=pymongo.MongoClient('mongodb://localhost:27017/')\n",
    "\n",
    "new_db=new_client['new_data']\n",
    "\n",
    "new_col=new_db['new_students']\n",
    "\n",
    "list_of_students=[\n",
    "    {\"_id\":1,\"name\":\"chaitanya\", \"code\":\"code01\"},\n",
    "    {\"_id\":2,\"name\":\"darshani\", \"code\":\"code02\"},\n",
    "    {\"_id\":3,\"name\":\"yuvraj\", \"code\":\"code03\"},\n",
    "    {\"_id\":4,\"name\":\"vaishnavi\", \"code\":\"code04\"},\n",
    "    {\"_id\":5,\"name\":\"dhananjay\", \"code\":\"code05\"},\n",
    "    {\"_id\":6,\"name\":\"gaurav\", \"code\":\"code06\"}\n",
    "\n",
    "]\n",
    "\n",
    "adding_many=new_col.insert_many(list_of_students)\n",
    "\n",
    "print(adding_many.inserted_ids)"
   ]
  },
  {
   "cell_type": "code",
   "execution_count": 14,
   "metadata": {},
   "outputs": [
    {
     "name": "stdout",
     "output_type": "stream",
     "text": [
      "{'_id': 1, 'name': 'chaitanya', 'code': 'code01'}\n"
     ]
    }
   ],
   "source": [
    "##finding data in a collection\n",
    "\n",
    "finding=new_col.find_one()\n",
    "print(finding)"
   ]
  },
  {
   "cell_type": "code",
   "execution_count": 16,
   "metadata": {},
   "outputs": [
    {
     "name": "stdout",
     "output_type": "stream",
     "text": [
      "{'_id': 1, 'name': 'chaitanya', 'code': 'code01'}\n",
      "{'_id': 2, 'name': 'darshani', 'code': 'code02'}\n",
      "{'_id': 3, 'name': 'yuvraj', 'code': 'code03'}\n",
      "{'_id': 4, 'name': 'vaishnavi', 'code': 'code04'}\n",
      "{'_id': 5, 'name': 'dhananjay', 'code': 'code05'}\n",
      "{'_id': 6, 'name': 'gaurav', 'code': 'code06'}\n"
     ]
    }
   ],
   "source": [
    "#looping through docu\n",
    "\n",
    "for docu in new_col.find():\n",
    "    print(docu)"
   ]
  },
  {
   "cell_type": "code",
   "execution_count": 17,
   "metadata": {},
   "outputs": [
    {
     "name": "stdout",
     "output_type": "stream",
     "text": [
      "{'_id': 1, 'name': 'chaitanya', 'code': 'code01'}\n"
     ]
    }
   ],
   "source": [
    "#looking for specific query\n",
    "new_query={\"code\":\"code01\"}\n",
    "\n",
    "new_doc=new_col.find(new_query)\n",
    "\n",
    "for x in new_doc:\n",
    "    print(x)"
   ]
  },
  {
   "cell_type": "code",
   "execution_count": 18,
   "metadata": {},
   "outputs": [
    {
     "name": "stdout",
     "output_type": "stream",
     "text": [
      "{'_id': 1, 'name': 'chaitanya', 'code': 'code01'}\n",
      "{'_id': 2, 'name': 'darshani', 'code': 'code02'}\n",
      "{'_id': 3, 'name': 'yuvraj', 'code': 'code03'}\n",
      "{'_id': 4, 'name': 'vaishnavi', 'code': 'code04'}\n",
      "{'_id': 5, 'name': 'dhananjay', 'code': 'code05'}\n",
      "{'_id': 6, 'name': 'gaurav', 'code': 'code06'}\n"
     ]
    }
   ],
   "source": [
    "#using modifier\n",
    "import pymongo\n",
    "\n",
    "new_client=pymongo.MongoClient('mongodb://localhost:27017/')\n",
    "\n",
    "new_db=new_client['new_data']\n",
    "\n",
    "new_col=new_db['new_students']\n",
    "\n",
    "new_query={\"code\":{\"$gt\":\"code\"} }\n",
    "\n",
    "new_doc= new_col.find(new_query)\n",
    "\n",
    "for x in new_doc:\n",
    "    print(x)\n",
    "\n"
   ]
  },
  {
   "cell_type": "code",
   "execution_count": 20,
   "metadata": {},
   "outputs": [
    {
     "name": "stdout",
     "output_type": "stream",
     "text": [
      "{'_id': 1, 'name': 'chaitanya', 'code': 'code01'}\n",
      "{'_id': 2, 'name': 'darshani', 'code': 'code02'}\n",
      "{'_id': 5, 'name': 'dhananjay', 'code': 'code05'}\n",
      "{'_id': 6, 'name': 'gaurav', 'code': 'code06'}\n",
      "{'_id': 4, 'name': 'vaishnavi', 'code': 'code04'}\n",
      "{'_id': 3, 'name': 'yuvraj', 'code': 'code03'}\n"
     ]
    }
   ],
   "source": [
    "#sorting data with variable\n",
    "new_query=new_col.find().sort(\"name\")\n",
    "\n",
    "for x in new_query:\n",
    "    print(x)"
   ]
  },
  {
   "cell_type": "code",
   "execution_count": 21,
   "metadata": {},
   "outputs": [
    {
     "name": "stdout",
     "output_type": "stream",
     "text": [
      "{'_id': 3, 'name': 'yuvraj', 'code': 'code03'}\n",
      "{'_id': 4, 'name': 'vaishnavi', 'code': 'code04'}\n",
      "{'_id': 6, 'name': 'gaurav', 'code': 'code06'}\n",
      "{'_id': 5, 'name': 'dhananjay', 'code': 'code05'}\n",
      "{'_id': 2, 'name': 'darshani', 'code': 'code02'}\n",
      "{'_id': 1, 'name': 'chaitanya', 'code': 'code01'}\n"
     ]
    }
   ],
   "source": [
    "#sorting in descending order\n",
    "#sorting data with variable\n",
    "new_query=new_col.find().sort(\"name\",-1)\n",
    "\n",
    "for x in new_query:\n",
    "    print(x)"
   ]
  },
  {
   "cell_type": "code",
   "execution_count": 22,
   "metadata": {},
   "outputs": [
    {
     "name": "stdout",
     "output_type": "stream",
     "text": [
      "{'_id': 2, 'name': 'darshani', 'code': 'code02'}\n",
      "{'_id': 3, 'name': 'yuvraj', 'code': 'code03'}\n",
      "{'_id': 4, 'name': 'vaishnavi', 'code': 'code04'}\n",
      "{'_id': 5, 'name': 'dhananjay', 'code': 'code05'}\n",
      "{'_id': 6, 'name': 'gaurav', 'code': 'code06'}\n"
     ]
    }
   ],
   "source": [
    "#deleting single entery\n",
    "new_query={\"code\":\"code01\"}\n",
    "\n",
    "new_col.delete_one(new_query)\n",
    "\n",
    "for x in new_col.find():\n",
    "    print(x)"
   ]
  },
  {
   "cell_type": "code",
   "execution_count": 23,
   "metadata": {},
   "outputs": [
    {
     "name": "stdout",
     "output_type": "stream",
     "text": [
      "0 documents deleted from the collection\n"
     ]
    }
   ],
   "source": [
    "#deleting more than one\n",
    "new_q={\"name\":{\"$regex\":\"code03\"}}\n",
    "\n",
    "x=new_col.delete_many(new_q)\n",
    "\n",
    "print(x.deleted_count,\"documents deleted from the collection\")"
   ]
  },
  {
   "cell_type": "code",
   "execution_count": 24,
   "metadata": {},
   "outputs": [
    {
     "name": "stdout",
     "output_type": "stream",
     "text": [
      "5 document deleted from the collection\n"
     ]
    }
   ],
   "source": [
    "#removeing all \n",
    "remove_all=new_col.delete_many({})\n",
    "\n",
    "print(remove_all.deleted_count,\"document deleted from the collection\")"
   ]
  },
  {
   "cell_type": "code",
   "execution_count": 25,
   "metadata": {},
   "outputs": [],
   "source": [
    "#drope method\n",
    "new_col.drop()"
   ]
  },
  {
   "cell_type": "code",
   "execution_count": null,
   "metadata": {},
   "outputs": [],
   "source": [
    "#updating collection in mongo db\n"
   ]
  }
 ],
 "metadata": {
  "kernelspec": {
   "display_name": "base",
   "language": "python",
   "name": "python3"
  },
  "language_info": {
   "codemirror_mode": {
    "name": "ipython",
    "version": 3
   },
   "file_extension": ".py",
   "mimetype": "text/x-python",
   "name": "python",
   "nbconvert_exporter": "python",
   "pygments_lexer": "ipython3",
   "version": "3.9.12"
  },
  "orig_nbformat": 4,
  "vscode": {
   "interpreter": {
    "hash": "153180c1b831411a032011370c4fbb820cfbc830fb34ae9a08d452d2866909b5"
   }
  }
 },
 "nbformat": 4,
 "nbformat_minor": 2
}
