{
 "cells": [
  {
   "attachments": {},
   "cell_type": "markdown",
   "metadata": {},
   "source": [
    "### Installing MYsql Connector"
   ]
  },
  {
   "cell_type": "code",
   "execution_count": 1,
   "metadata": {},
   "outputs": [
    {
     "name": "stdout",
     "output_type": "stream",
     "text": [
      "Requirement already satisfied: mysql-connector-python in c:\\users\\cemtrex\\anaconda3\\lib\\site-packages (8.0.31)\n",
      "Requirement already satisfied: protobuf<=3.20.1,>=3.11.0 in c:\\users\\cemtrex\\anaconda3\\lib\\site-packages (from mysql-connector-python) (3.19.1)\n"
     ]
    }
   ],
   "source": [
    "#installing python mysql connector\n",
    "!python -m pip install mysql-connector-python"
   ]
  },
  {
   "cell_type": "code",
   "execution_count": 2,
   "metadata": {},
   "outputs": [],
   "source": [
    "#import my sql connector\n",
    "import mysql.connector"
   ]
  },
  {
   "attachments": {},
   "cell_type": "markdown",
   "metadata": {},
   "source": [
    "* The connect() constructor creates a connection to the MySQL server and returns a MySQLConnection object,The following example shows how to connect to the MySQL server:"
   ]
  },
  {
   "cell_type": "code",
   "execution_count": 3,
   "metadata": {},
   "outputs": [
    {
     "name": "stdout",
     "output_type": "stream",
     "text": [
      "<mysql.connector.connection_cext.CMySQLConnection object at 0x0000018361350C70>\n"
     ]
    }
   ],
   "source": [
    "#create a connection to database\n",
    "new_db=mysql.connector.connect(\n",
    "    host='localhost',\n",
    "    user='root',\n",
    "    password='root',\n",
    ")\n",
    "\n",
    "print(new_db)"
   ]
  },
  {
   "attachments": {},
   "cell_type": "markdown",
   "metadata": {},
   "source": [
    "### Create a Database and testing"
   ]
  },
  {
   "cell_type": "code",
   "execution_count": 4,
   "metadata": {},
   "outputs": [],
   "source": [
    "#importing module\n",
    "import mysql.connector\n",
    "\n",
    "#creating new connection\n",
    "new_db=mysql.connector.connect(\n",
    "    host='localhost',\n",
    "    user='root',\n",
    "    password='root',\n",
    ")\n",
    "\n",
    "#create a cursor\n",
    "new_cursor=new_db.cursor()\n",
    "\n",
    "#creata a database with new cursor\n",
    "new_cursor.execute(\"CREATE DATABASE newData\")\n"
   ]
  },
  {
   "cell_type": "code",
   "execution_count": 5,
   "metadata": {},
   "outputs": [
    {
     "name": "stdout",
     "output_type": "stream",
     "text": [
      "('information_schema',)\n",
      "('mysql',)\n",
      "('newdata',)\n",
      "('performance_schema',)\n",
      "('sakila',)\n",
      "('sys',)\n",
      "('world',)\n"
     ]
    }
   ],
   "source": [
    "#check database is created or not\n",
    "\n",
    "#import module\n",
    "import mysql.connector\n",
    "\n",
    "#creating new connection\n",
    "new_db=mysql.connector.connect(\n",
    "    host='localhost',\n",
    "    user='root',\n",
    "    password='root',\n",
    ")\n",
    "\n",
    "#create a cursor\n",
    "new_cursor=new_db.cursor()\n",
    "\n",
    "#check newData database created or not\n",
    "new_cursor.execute(\"SHOW DATABASES\")\n",
    "\n",
    "#use for loop to iterate over the cursor for checking of database\n",
    "for n in new_cursor:\n",
    "    print(n)"
   ]
  },
  {
   "cell_type": "code",
   "execution_count": 7,
   "metadata": {},
   "outputs": [],
   "source": [
    "#alternative method to check database exists or not\n",
    "\n",
    "#import module\n",
    "import mysql.connector\n",
    "\n",
    "#creating new connection\n",
    "new_db=mysql.connector.connect(\n",
    "    host='localhost',\n",
    "    user='root',\n",
    "    password='root',\n",
    "    database='newData'\n",
    ")"
   ]
  },
  {
   "attachments": {},
   "cell_type": "markdown",
   "metadata": {},
   "source": [
    "### Creating Tables and Checking"
   ]
  },
  {
   "cell_type": "code",
   "execution_count": 8,
   "metadata": {},
   "outputs": [],
   "source": [
    "#creating table if no error table is created\n",
    "\n",
    "#import module\n",
    "import mysql.connector\n",
    "\n",
    "#creating new connection\n",
    "new_db=mysql.connector.connect(\n",
    "    host='localhost',\n",
    "    user='root',\n",
    "    password='root',\n",
    "    database='newData'\n",
    ")\n",
    "\n",
    "new_cursor=new_db.cursor()\n",
    "new_cursor.execute('CREATE TABLE students (name VARCHAR(255), code VARCHAR(255))')"
   ]
  },
  {
   "attachments": {},
   "cell_type": "markdown",
   "metadata": {},
   "source": [
    "### List of Tables in newData\n"
   ]
  },
  {
   "cell_type": "code",
   "execution_count": 9,
   "metadata": {},
   "outputs": [
    {
     "name": "stdout",
     "output_type": "stream",
     "text": [
      "('students',)\n"
     ]
    }
   ],
   "source": [
    "#checking created table\n",
    "\n",
    "#import module\n",
    "import mysql.connector\n",
    "\n",
    "#creating new connection\n",
    "new_db=mysql.connector.connect(\n",
    "    host='localhost',\n",
    "    user='root',\n",
    "    password='root',\n",
    "    database='newData'\n",
    ")\n",
    "\n",
    "new_cursor=new_db.cursor()\n",
    "new_cursor.execute('SHOW TABLES')\n",
    "\n",
    "for x in new_cursor:\n",
    "    print(x)"
   ]
  },
  {
   "attachments": {},
   "cell_type": "markdown",
   "metadata": {},
   "source": [
    "### Add Primary key for Tables"
   ]
  },
  {
   "cell_type": "code",
   "execution_count": 10,
   "metadata": {},
   "outputs": [],
   "source": [
    "#import module\n",
    "import mysql.connector\n",
    "\n",
    "#creating new connection\n",
    "new_db=mysql.connector.connect(\n",
    "    host='localhost',\n",
    "    user='root',\n",
    "    password='root',\n",
    "    database='newData'\n",
    ")\n",
    "\n",
    "new_cursor=new_db.cursor()\n",
    "new_cursor.execute(\"CREATE TABLE client(id INT AUTO_INCREMENT PRIMARY KEY, name VARCHAR(255), code VARCHAR(255))\")"
   ]
  },
  {
   "attachments": {},
   "cell_type": "markdown",
   "metadata": {},
   "source": [
    "### Add Primary Key if table already exists"
   ]
  },
  {
   "cell_type": "code",
   "execution_count": 11,
   "metadata": {},
   "outputs": [],
   "source": [
    "#import module\n",
    "import mysql.connector\n",
    "\n",
    "#creating new connection\n",
    "new_db=mysql.connector.connect(\n",
    "    host='localhost',\n",
    "    user='root',\n",
    "    password='root',\n",
    "    database='newData'\n",
    ")\n",
    "\n",
    "new_cursor=new_db.cursor()\n",
    "new_cursor.execute(\"ALTER TABLE students ADD COLUMN id INT AUTO_INCREMENT PRIMARY KEY \")"
   ]
  },
  {
   "attachments": {},
   "cell_type": "markdown",
   "metadata": {},
   "source": [
    "### Insert records into tables"
   ]
  },
  {
   "cell_type": "code",
   "execution_count": 12,
   "metadata": {},
   "outputs": [
    {
     "name": "stdout",
     "output_type": "stream",
     "text": [
      "1 new recored inserted\n"
     ]
    }
   ],
   "source": [
    "#import module\n",
    "import mysql.connector\n",
    "\n",
    "#creating new connection\n",
    "new_db=mysql.connector.connect(\n",
    "    host='localhost',\n",
    "    user='root',\n",
    "    password='root',\n",
    "    database='newData'\n",
    ")\n",
    "\n",
    "new_cursor=new_db.cursor()\n",
    "\n",
    "new_sql = \"INSERT INTO  students (name,code) VALUES (%s, %s)\"\n",
    "new_vals=(\"Ronaldo\",\"CODE12\")\n",
    "\n",
    "new_cursor.execute(new_sql,new_vals)\n",
    "\n",
    "new_db.commit()\n",
    "\n",
    "print(new_cursor.rowcount,\"new recored inserted\")"
   ]
  },
  {
   "attachments": {},
   "cell_type": "markdown",
   "metadata": {},
   "source": [
    "### adding many records"
   ]
  },
  {
   "cell_type": "code",
   "execution_count": 15,
   "metadata": {},
   "outputs": [
    {
     "name": "stdout",
     "output_type": "stream",
     "text": [
      "4 new recored inserted\n"
     ]
    }
   ],
   "source": [
    "#import module\n",
    "import mysql.connector\n",
    "\n",
    "#creating new connection\n",
    "new_db=mysql.connector.connect(\n",
    "    host='localhost',\n",
    "    user='root',\n",
    "    password='root',\n",
    "    database='newData'\n",
    ")\n",
    "\n",
    "new_cursor=new_db.cursor()\n",
    "new_sql = \"INSERT INTO  students (name,code) VALUES (%s, %s)\"\n",
    "\n",
    "new_val=[\n",
    "    (\"Mesi\",\"code30\"),\n",
    "    (\"Pogba\",\"code06\"),\n",
    "    (\"Salah\",\"code11\"),\n",
    "    (\"Someone\",\"code110\")\n",
    "]\n",
    "\n",
    "new_cursor.executemany(new_sql,new_val)\n",
    "\n",
    "new_db.commit()\n",
    "\n",
    "print(new_cursor.rowcount,\"new recored inserted\")"
   ]
  },
  {
   "attachments": {},
   "cell_type": "markdown",
   "metadata": {},
   "source": [
    "### SELECT and fetch all data"
   ]
  },
  {
   "cell_type": "code",
   "execution_count": 16,
   "metadata": {},
   "outputs": [
    {
     "name": "stdout",
     "output_type": "stream",
     "text": [
      "('Ronaldo', 'CODE12', 1)\n",
      "('Mesi', 'code30', 2)\n",
      "('Pogba', 'code06', 3)\n",
      "('Salah', 'code11', 4)\n",
      "('Someone', 'code110', 5)\n"
     ]
    }
   ],
   "source": [
    "#import module\n",
    "import mysql.connector\n",
    "\n",
    "#creating new connection\n",
    "new_db=mysql.connector.connect(\n",
    "    host='localhost',\n",
    "    user='root',\n",
    "    password='root',\n",
    "    database='newData'\n",
    ")\n",
    "\n",
    "new_cursor=new_db.cursor()\n",
    "\n",
    "new_cursor.execute(\"SELECT * FROM students\")\n",
    "\n",
    "new_data=new_cursor.fetchall()\n",
    "\n",
    "for x in new_data:\n",
    "    print(x)"
   ]
  },
  {
   "attachments": {},
   "cell_type": "markdown",
   "metadata": {},
   "source": [
    "### select column"
   ]
  },
  {
   "cell_type": "code",
   "execution_count": 21,
   "metadata": {},
   "outputs": [
    {
     "name": "stdout",
     "output_type": "stream",
     "text": [
      "('Ronaldo',)\n",
      "('Mesi',)\n",
      "('Pogba',)\n",
      "('Salah',)\n",
      "('Someone',)\n"
     ]
    }
   ],
   "source": [
    "#import module\n",
    "import mysql.connector\n",
    "\n",
    "#creating new connection\n",
    "new_db=mysql.connector.connect(\n",
    "    host='localhost',\n",
    "    user='root',\n",
    "    password='root',\n",
    "    database='newData'\n",
    ")\n",
    "\n",
    "new_cursor=new_db.cursor()\n",
    "\n",
    "new_cursor.execute(\"select name FROM students\")\n",
    "new_data=new_cursor.fetchall()\n",
    "\n",
    "for x in new_data:\n",
    "    print(x)"
   ]
  },
  {
   "cell_type": "code",
   "execution_count": 23,
   "metadata": {},
   "outputs": [
    {
     "name": "stdout",
     "output_type": "stream",
     "text": [
      "('Ronaldo', 'CODE12', 1)\n"
     ]
    }
   ],
   "source": [
    "#fetch only single row/data from table \n",
    "\n",
    "#import module\n",
    "import mysql.connector\n",
    "\n",
    "#creating new connection\n",
    "new_db=mysql.connector.connect(\n",
    "    host='localhost',\n",
    "    user='root',\n",
    "    password='root',\n",
    "    database='newData'\n",
    ")\n",
    "\n",
    "new_cursor=new_db.cursor()\n",
    "\n",
    "new_cursor.execute(\"select * FROM students\")\n",
    "new_data=new_cursor.fetchone()\n",
    "\n",
    "print(new_data)"
   ]
  },
  {
   "attachments": {},
   "cell_type": "markdown",
   "metadata": {},
   "source": [
    "### Filter The Results"
   ]
  },
  {
   "cell_type": "code",
   "execution_count": 24,
   "metadata": {},
   "outputs": [
    {
     "name": "stdout",
     "output_type": "stream",
     "text": [
      "('Ronaldo', 'CODE12', 1)\n"
     ]
    }
   ],
   "source": [
    "#import module\n",
    "import mysql.connector\n",
    "\n",
    "#creating new connection\n",
    "new_db=mysql.connector.connect(\n",
    "    host='localhost',\n",
    "    user='root',\n",
    "    password='root',\n",
    "    database='newData'\n",
    ")\n",
    "\n",
    "new_cursor=new_db.cursor()\n",
    "\n",
    "new_sql=\"SELECT * FROM students WHERE name='Ronaldo'\"\n",
    "\n",
    "new_cursor.execute(new_sql)\n",
    "\n",
    "new_data=new_cursor.fetchall()\n",
    "\n",
    "for x in new_data:\n",
    "    print(x)"
   ]
  },
  {
   "attachments": {},
   "cell_type": "markdown",
   "metadata": {},
   "source": [
    "### Wild Card Character"
   ]
  },
  {
   "cell_type": "code",
   "execution_count": 27,
   "metadata": {},
   "outputs": [
    {
     "name": "stdout",
     "output_type": "stream",
     "text": [
      "('Mesi', 'code30', 2)\n"
     ]
    }
   ],
   "source": [
    "#import module\n",
    "import mysql.connector\n",
    "\n",
    "#creating new connection\n",
    "new_db=mysql.connector.connect(\n",
    "    host='localhost',\n",
    "    user='root',\n",
    "    password='root',\n",
    "    database='newData'\n",
    ")\n",
    "\n",
    "new_cursor=new_db.cursor()\n",
    "\n",
    "new_sql=\"SELECT * FROM students WHERE name LIKE '%Mesi%' \"\n",
    "\n",
    "new_cursor.execute(new_sql)\n",
    "\n",
    "new_data=new_cursor.fetchall()\n",
    "\n",
    "for x in new_data:\n",
    "    print(x)"
   ]
  },
  {
   "attachments": {},
   "cell_type": "markdown",
   "metadata": {},
   "source": [
    "### Sorting The Results"
   ]
  },
  {
   "cell_type": "code",
   "execution_count": 28,
   "metadata": {},
   "outputs": [
    {
     "name": "stdout",
     "output_type": "stream",
     "text": [
      "('Mesi', 'code30', 2)\n",
      "('Pogba', 'code06', 3)\n",
      "('Ronaldo', 'CODE12', 1)\n",
      "('Salah', 'code11', 4)\n",
      "('Someone', 'code110', 5)\n"
     ]
    }
   ],
   "source": [
    "#import module\n",
    "import mysql.connector\n",
    "\n",
    "#creating new connection\n",
    "new_db=mysql.connector.connect(\n",
    "    host='localhost',\n",
    "    user='root',\n",
    "    password='root',\n",
    "    database='newData'\n",
    ")\n",
    "\n",
    "new_cursor=new_db.cursor()\n",
    "\n",
    "new_sql=\"SELECT * FROM students ORDER BY name\"\n",
    "\n",
    "new_cursor.execute(new_sql)\n",
    "\n",
    "new_data=new_cursor.fetchall()\n",
    "\n",
    "for x in new_data:\n",
    "    print(x)"
   ]
  },
  {
   "cell_type": "code",
   "execution_count": 30,
   "metadata": {},
   "outputs": [
    {
     "name": "stdout",
     "output_type": "stream",
     "text": [
      "('Mesi', 'code30', 2)\n",
      "('Ronaldo', 'CODE12', 1)\n",
      "('Someone', 'code110', 5)\n",
      "('Salah', 'code11', 4)\n",
      "('Pogba', 'code06', 3)\n"
     ]
    }
   ],
   "source": [
    "#descending order\n",
    "#import module\n",
    "import mysql.connector\n",
    "\n",
    "#creating new connection\n",
    "new_db=mysql.connector.connect(\n",
    "    host='localhost',\n",
    "    user='root',\n",
    "    password='root',\n",
    "    database='newData'\n",
    ")\n",
    "\n",
    "new_cursor=new_db.cursor()\n",
    "\n",
    "new_sql=\"SELECT * FROM students ORDER BY code DESC\"\n",
    "\n",
    "new_cursor.execute(new_sql)\n",
    "\n",
    "new_data=new_cursor.fetchall()\n",
    "\n",
    "for x in new_data:\n",
    "    print(x)"
   ]
  },
  {
   "attachments": {},
   "cell_type": "markdown",
   "metadata": {},
   "source": [
    "### DELETING Records"
   ]
  },
  {
   "cell_type": "code",
   "execution_count": 37,
   "metadata": {},
   "outputs": [
    {
     "name": "stdout",
     "output_type": "stream",
     "text": [
      "1 records deleted from new daata\n"
     ]
    }
   ],
   "source": [
    "#import module\n",
    "import mysql.connector\n",
    "\n",
    "#creating new connection\n",
    "new_db=mysql.connector.connect(\n",
    "    host='localhost',\n",
    "    user='root',\n",
    "    password='root',\n",
    "    database='newData'\n",
    ")\n",
    "\n",
    "new_cursor=new_db.cursor()\n",
    "\n",
    "new_sql=\"DELETE FROM students WHERE name =%s \"\n",
    "name=(\"Ronaldo\",)\n",
    "\n",
    "new_cursor.execute(new_sql,name)\n",
    "\n",
    "new_db.commit()\n",
    "\n",
    "print(new_cursor.rowcount,\"records deleted from new data\")"
   ]
  },
  {
   "attachments": {},
   "cell_type": "markdown",
   "metadata": {},
   "source": [
    "### Deleting Table"
   ]
  },
  {
   "cell_type": "code",
   "execution_count": 41,
   "metadata": {},
   "outputs": [],
   "source": [
    "#import module\n",
    "import mysql.connector\n",
    "\n",
    "#creating new connection\n",
    "new_db=mysql.connector.connect(\n",
    "    host='localhost',\n",
    "    user='root',\n",
    "    password='root',\n",
    "    database='newData'\n",
    ")\n",
    "\n",
    "new_cursor=new_db.cursor()\n",
    "\n",
    "new_sql=\"DROP TABLE IF EXISTS  client\"\n",
    "\n",
    "\n",
    "new_cursor.execute(new_sql)"
   ]
  },
  {
   "attachments": {},
   "cell_type": "markdown",
   "metadata": {},
   "source": [
    "### Updating Tables and Escaping values "
   ]
  },
  {
   "cell_type": "code",
   "execution_count": 46,
   "metadata": {},
   "outputs": [
    {
     "name": "stdout",
     "output_type": "stream",
     "text": [
      "0 records changed in students tables!\n"
     ]
    }
   ],
   "source": [
    "#import module\n",
    "import mysql.connector\n",
    "\n",
    "#creating new connection\n",
    "new_db=mysql.connector.connect(\n",
    "    host='localhost',\n",
    "    user='root',\n",
    "    password='root',\n",
    "    database='newData'\n",
    ")\n",
    "\n",
    "new_cursor=new_db.cursor()\n",
    "\n",
    "new_sql=\"UPDATE students SET code =%s WHERE  code =%s \"\n",
    "new_vals=('Code12','Code07')\n",
    "\n",
    "\n",
    "new_cursor.execute(new_sql,new_vals)\n",
    "\n",
    "new_db.commit()\n",
    "\n",
    "print(new_cursor.rowcount,\"records changed in students tables!\")\n",
    "\n"
   ]
  },
  {
   "attachments": {},
   "cell_type": "markdown",
   "metadata": {},
   "source": [
    "### Limit The Records "
   ]
  },
  {
   "cell_type": "code",
   "execution_count": 49,
   "metadata": {},
   "outputs": [
    {
     "name": "stdout",
     "output_type": "stream",
     "text": [
      "('Salah', 'code11', 4)\n",
      "('Someone', 'code110', 5)\n"
     ]
    }
   ],
   "source": [
    "#import module\n",
    "import mysql.connector\n",
    "\n",
    "#creating new connection\n",
    "new_db=mysql.connector.connect(\n",
    "    host='localhost',\n",
    "    user='root',\n",
    "    password='root',\n",
    "    database='newData'\n",
    ")\n",
    "\n",
    "new_cursor=new_db.cursor()\n",
    "\n",
    "new_sql=\"SELECT * FROM students LIMIT 2 OFFSET 1\"\n",
    "\n",
    "new_cursor.execute(new_sql)\n",
    "\n",
    "new_data=new_cursor.fetchall()\n",
    "\n",
    "for x in new_data:\n",
    "    print(x)"
   ]
  },
  {
   "cell_type": "code",
   "execution_count": null,
   "metadata": {},
   "outputs": [],
   "source": []
  }
 ],
 "metadata": {
  "kernelspec": {
   "display_name": "base",
   "language": "python",
   "name": "python3"
  },
  "language_info": {
   "codemirror_mode": {
    "name": "ipython",
    "version": 3
   },
   "file_extension": ".py",
   "mimetype": "text/x-python",
   "name": "python",
   "nbconvert_exporter": "python",
   "pygments_lexer": "ipython3",
   "version": "3.9.12"
  },
  "orig_nbformat": 4,
  "vscode": {
   "interpreter": {
    "hash": "153180c1b831411a032011370c4fbb820cfbc830fb34ae9a08d452d2866909b5"
   }
  }
 },
 "nbformat": 4,
 "nbformat_minor": 2
}
